{
  "nbformat": 4,
  "nbformat_minor": 0,
  "metadata": {
    "colab": {
      "name": "RunGomoBot.ipynb",
      "provenance": []
    },
    "kernelspec": {
      "name": "python3",
      "display_name": "Python 3"
    },
    "language_info": {
      "name": "python"
    }
  },
  "cells": [
    {
      "cell_type": "code",
      "metadata": {
        "colab": {
          "base_uri": "https://localhost:8080/"
        },
        "id": "kvh-YUubURAq",
        "outputId": "55f41a10-6c38-4cbf-dad5-8b7df78f1bb7"
      },
      "source": [
        "!git clone https://github.com/selveszero/GomoBot.git"
      ],
      "execution_count": 1,
      "outputs": [
        {
          "output_type": "stream",
          "text": [
            "Cloning into 'GomoBot'...\n",
            "remote: Enumerating objects: 126, done.\u001b[K\n",
            "remote: Counting objects: 100% (126/126), done.\u001b[K\n",
            "remote: Compressing objects: 100% (100/100), done.\u001b[K\n",
            "remote: Total 126 (delta 44), reused 35 (delta 8), pack-reused 0\u001b[K\n",
            "Receiving objects: 100% (126/126), 48.26 MiB | 14.46 MiB/s, done.\n",
            "Resolving deltas: 100% (44/44), done.\n"
          ],
          "name": "stdout"
        }
      ]
    },
    {
      "cell_type": "code",
      "metadata": {
        "colab": {
          "base_uri": "https://localhost:8080/"
        },
        "id": "whVFx9rXUW9p",
        "outputId": "f0e7e2ba-7cee-4a16-8555-e7d023c616e2"
      },
      "source": [
        "%cd GomoBot/src/"
      ],
      "execution_count": 2,
      "outputs": [
        {
          "output_type": "stream",
          "text": [
            "/content/GomoBot/src\n"
          ],
          "name": "stdout"
        }
      ]
    },
    {
      "cell_type": "code",
      "metadata": {
        "id": "M8KktzyVVx2A"
      },
      "source": [
        "# train\n",
        "# !python dqn_main.py --width 8"
      ],
      "execution_count": null,
      "outputs": []
    },
    {
      "cell_type": "code",
      "metadata": {
        "id": "-QWKKunBUdWc"
      },
      "source": [
        "!python human_play.py --agent \"mcts_a0\""
      ],
      "execution_count": null,
      "outputs": []
    }
  ]
}